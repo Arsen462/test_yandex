{
 "cells": [
  {
   "cell_type": "markdown",
   "metadata": {},
   "source": [
    "# Решение 1 задания"
   ]
  },
  {
   "cell_type": "markdown",
   "metadata": {},
   "source": [
    "### Считывание, очистка и обработка данных"
   ]
  },
  {
   "cell_type": "code",
   "execution_count": 1,
   "metadata": {},
   "outputs": [],
   "source": [
    "import pandas as pd\n",
    "import datetime as dt\n",
    "import numpy as np\n",
    "import os"
   ]
  },
  {
   "cell_type": "code",
   "execution_count": 2,
   "metadata": {},
   "outputs": [
    {
     "name": "stdout",
     "output_type": "stream",
     "text": [
      "['.ipynb_checkpoints', 'main.ipynb', 'main2.ipynb', 'Тестовое задание на технического менеджера-стажера.docx', 'файл 1.txt', 'файл 2.csv']\n"
     ]
    }
   ],
   "source": [
    "print(os.listdir())"
   ]
  },
  {
   "cell_type": "code",
   "execution_count": 3,
   "metadata": {},
   "outputs": [
    {
     "name": "stdout",
     "output_type": "stream",
     "text": [
      "(701827, 5)\n"
     ]
    },
    {
     "data": {
      "text/html": [
       "<div>\n",
       "<style scoped>\n",
       "    .dataframe tbody tr th:only-of-type {\n",
       "        vertical-align: middle;\n",
       "    }\n",
       "\n",
       "    .dataframe tbody tr th {\n",
       "        vertical-align: top;\n",
       "    }\n",
       "\n",
       "    .dataframe thead th {\n",
       "        text-align: right;\n",
       "    }\n",
       "</style>\n",
       "<table border=\"1\" class=\"dataframe\">\n",
       "  <thead>\n",
       "    <tr style=\"text-align: right;\">\n",
       "      <th></th>\n",
       "      <th>login</th>\n",
       "      <th>tid</th>\n",
       "      <th>microtasks</th>\n",
       "      <th>assigned_ts</th>\n",
       "      <th>closed_ts</th>\n",
       "    </tr>\n",
       "  </thead>\n",
       "  <tbody>\n",
       "    <tr>\n",
       "      <th>0</th>\n",
       "      <td>0</td>\n",
       "      <td>190563850.0</td>\n",
       "      <td>4.0</td>\n",
       "      <td>2017-04-20 12:09:39</td>\n",
       "      <td>2017-04-20 13:13:01</td>\n",
       "    </tr>\n",
       "    <tr>\n",
       "      <th>1</th>\n",
       "      <td>0</td>\n",
       "      <td>190561754.0</td>\n",
       "      <td>1.0</td>\n",
       "      <td>2017-04-20 12:10:30</td>\n",
       "      <td>2017-04-20 12:28:29</td>\n",
       "    </tr>\n",
       "    <tr>\n",
       "      <th>2</th>\n",
       "      <td>0</td>\n",
       "      <td>190565906.0</td>\n",
       "      <td>4.0</td>\n",
       "      <td>2017-04-20 12:21:31</td>\n",
       "      <td>2017-04-20 13:30:10</td>\n",
       "    </tr>\n",
       "    <tr>\n",
       "      <th>3</th>\n",
       "      <td>0</td>\n",
       "      <td>190560246.0</td>\n",
       "      <td>1.0</td>\n",
       "      <td>2017-04-20 12:28:30</td>\n",
       "      <td>2017-04-20 13:13:56</td>\n",
       "    </tr>\n",
       "    <tr>\n",
       "      <th>4</th>\n",
       "      <td>0</td>\n",
       "      <td>190562168.0</td>\n",
       "      <td>2.0</td>\n",
       "      <td>2017-04-20 12:28:42</td>\n",
       "      <td>2017-04-20 13:14:50</td>\n",
       "    </tr>\n",
       "  </tbody>\n",
       "</table>\n",
       "</div>"
      ],
      "text/plain": [
       "   login          tid  microtasks          assigned_ts            closed_ts\n",
       "0      0  190563850.0         4.0  2017-04-20 12:09:39  2017-04-20 13:13:01\n",
       "1      0  190561754.0         1.0  2017-04-20 12:10:30  2017-04-20 12:28:29\n",
       "2      0  190565906.0         4.0  2017-04-20 12:21:31  2017-04-20 13:30:10\n",
       "3      0  190560246.0         1.0  2017-04-20 12:28:30  2017-04-20 13:13:56\n",
       "4      0  190562168.0         2.0  2017-04-20 12:28:42  2017-04-20 13:14:50"
      ]
     },
     "execution_count": 3,
     "metadata": {},
     "output_type": "execute_result"
    }
   ],
   "source": [
    "df = pd.read_csv('файл 1.txt', delimiter = \"\\t\")\n",
    "df.columns = [i.lower() for i in df.columns]\n",
    "df['login'] = df.login.str.split('login').str.join('').astype(int)\n",
    "print(df.shape)\n",
    "df.head()"
   ]
  },
  {
   "cell_type": "code",
   "execution_count": 4,
   "metadata": {},
   "outputs": [
    {
     "name": "stdout",
     "output_type": "stream",
     "text": [
      "login            int32\n",
      "tid            float64\n",
      "microtasks     float64\n",
      "assigned_ts     object\n",
      "closed_ts       object\n",
      "dtype: object\n"
     ]
    }
   ],
   "source": [
    "print(df.dtypes)"
   ]
  },
  {
   "cell_type": "code",
   "execution_count": 5,
   "metadata": {},
   "outputs": [
    {
     "name": "stdout",
     "output_type": "stream",
     "text": [
      "login                   int32\n",
      "tid                   float64\n",
      "microtasks            float64\n",
      "assigned_ts    datetime64[ns]\n",
      "closed_ts      datetime64[ns]\n",
      "dtype: object\n"
     ]
    }
   ],
   "source": [
    "# Столбцы assigned_ts и closed_ts переводим в тип datetimе\n",
    "df['assigned_ts'] = pd.to_datetime(df['assigned_ts'])\n",
    "df['closed_ts'] = pd.to_datetime(df['closed_ts'])\n",
    "print(df.dtypes)"
   ]
  },
  {
   "cell_type": "code",
   "execution_count": 6,
   "metadata": {},
   "outputs": [
    {
     "name": "stdout",
     "output_type": "stream",
     "text": [
      "(680037, 5)\n"
     ]
    },
    {
     "data": {
      "text/html": [
       "<div>\n",
       "<style scoped>\n",
       "    .dataframe tbody tr th:only-of-type {\n",
       "        vertical-align: middle;\n",
       "    }\n",
       "\n",
       "    .dataframe tbody tr th {\n",
       "        vertical-align: top;\n",
       "    }\n",
       "\n",
       "    .dataframe thead th {\n",
       "        text-align: right;\n",
       "    }\n",
       "</style>\n",
       "<table border=\"1\" class=\"dataframe\">\n",
       "  <thead>\n",
       "    <tr style=\"text-align: right;\">\n",
       "      <th></th>\n",
       "      <th>login</th>\n",
       "      <th>tid</th>\n",
       "      <th>microtasks</th>\n",
       "      <th>assigned_ts</th>\n",
       "      <th>closed_ts</th>\n",
       "    </tr>\n",
       "  </thead>\n",
       "  <tbody>\n",
       "    <tr>\n",
       "      <th>0</th>\n",
       "      <td>0</td>\n",
       "      <td>190563850.0</td>\n",
       "      <td>4.0</td>\n",
       "      <td>2017-04-20 12:09:39</td>\n",
       "      <td>2017-04-20 13:13:01</td>\n",
       "    </tr>\n",
       "    <tr>\n",
       "      <th>1</th>\n",
       "      <td>0</td>\n",
       "      <td>190561754.0</td>\n",
       "      <td>1.0</td>\n",
       "      <td>2017-04-20 12:10:30</td>\n",
       "      <td>2017-04-20 12:28:29</td>\n",
       "    </tr>\n",
       "    <tr>\n",
       "      <th>2</th>\n",
       "      <td>0</td>\n",
       "      <td>190565906.0</td>\n",
       "      <td>4.0</td>\n",
       "      <td>2017-04-20 12:21:31</td>\n",
       "      <td>2017-04-20 13:30:10</td>\n",
       "    </tr>\n",
       "    <tr>\n",
       "      <th>3</th>\n",
       "      <td>0</td>\n",
       "      <td>190560246.0</td>\n",
       "      <td>1.0</td>\n",
       "      <td>2017-04-20 12:28:30</td>\n",
       "      <td>2017-04-20 13:13:56</td>\n",
       "    </tr>\n",
       "    <tr>\n",
       "      <th>4</th>\n",
       "      <td>0</td>\n",
       "      <td>190562168.0</td>\n",
       "      <td>2.0</td>\n",
       "      <td>2017-04-20 12:28:42</td>\n",
       "      <td>2017-04-20 13:14:50</td>\n",
       "    </tr>\n",
       "  </tbody>\n",
       "</table>\n",
       "</div>"
      ],
      "text/plain": [
       "   login          tid  microtasks         assigned_ts           closed_ts\n",
       "0      0  190563850.0         4.0 2017-04-20 12:09:39 2017-04-20 13:13:01\n",
       "1      0  190561754.0         1.0 2017-04-20 12:10:30 2017-04-20 12:28:29\n",
       "2      0  190565906.0         4.0 2017-04-20 12:21:31 2017-04-20 13:30:10\n",
       "3      0  190560246.0         1.0 2017-04-20 12:28:30 2017-04-20 13:13:56\n",
       "4      0  190562168.0         2.0 2017-04-20 12:28:42 2017-04-20 13:14:50"
      ]
     },
     "execution_count": 6,
     "metadata": {},
     "output_type": "execute_result"
    }
   ],
   "source": [
    "# Удаляем дублирующиеся строки\n",
    "df = df.drop_duplicates()\n",
    "print(df.shape)\n",
    "df.head()"
   ]
  },
  {
   "cell_type": "code",
   "execution_count": 7,
   "metadata": {},
   "outputs": [
    {
     "data": {
      "text/html": [
       "<div>\n",
       "<style scoped>\n",
       "    .dataframe tbody tr th:only-of-type {\n",
       "        vertical-align: middle;\n",
       "    }\n",
       "\n",
       "    .dataframe tbody tr th {\n",
       "        vertical-align: top;\n",
       "    }\n",
       "\n",
       "    .dataframe thead th {\n",
       "        text-align: right;\n",
       "    }\n",
       "</style>\n",
       "<table border=\"1\" class=\"dataframe\">\n",
       "  <thead>\n",
       "    <tr style=\"text-align: right;\">\n",
       "      <th></th>\n",
       "      <th>login</th>\n",
       "      <th>tid</th>\n",
       "      <th>microtasks</th>\n",
       "      <th>assigned_ts</th>\n",
       "      <th>closed_ts</th>\n",
       "    </tr>\n",
       "  </thead>\n",
       "  <tbody>\n",
       "    <tr>\n",
       "      <th>534453</th>\n",
       "      <td>585</td>\n",
       "      <td>197340894.0</td>\n",
       "      <td>1.0</td>\n",
       "      <td>2017-05-24 16:13:06</td>\n",
       "      <td>2017-05-24 16:00:57</td>\n",
       "    </tr>\n",
       "  </tbody>\n",
       "</table>\n",
       "</div>"
      ],
      "text/plain": [
       "        login          tid  microtasks         assigned_ts           closed_ts\n",
       "534453    585  197340894.0         1.0 2017-05-24 16:13:06 2017-05-24 16:00:57"
      ]
     },
     "execution_count": 7,
     "metadata": {},
     "output_type": "execute_result"
    }
   ],
   "source": [
    "# Находим задачи с некорректным значением даты и удаляем их\n",
    "mist = df[df.assigned_ts > df.closed_ts].index.tolist()\n",
    "df[df.assigned_ts > df.closed_ts]"
   ]
  },
  {
   "cell_type": "code",
   "execution_count": 8,
   "metadata": {},
   "outputs": [
    {
     "name": "stdout",
     "output_type": "stream",
     "text": [
      "(680036, 5)\n"
     ]
    }
   ],
   "source": [
    "df.drop(mist, inplace=True)\n",
    "print(df.shape)"
   ]
  },
  {
   "cell_type": "code",
   "execution_count": 9,
   "metadata": {},
   "outputs": [
    {
     "name": "stdout",
     "output_type": "stream",
     "text": [
      "(680036, 6)\n"
     ]
    },
    {
     "data": {
      "text/html": [
       "<div>\n",
       "<style scoped>\n",
       "    .dataframe tbody tr th:only-of-type {\n",
       "        vertical-align: middle;\n",
       "    }\n",
       "\n",
       "    .dataframe tbody tr th {\n",
       "        vertical-align: top;\n",
       "    }\n",
       "\n",
       "    .dataframe thead th {\n",
       "        text-align: right;\n",
       "    }\n",
       "</style>\n",
       "<table border=\"1\" class=\"dataframe\">\n",
       "  <thead>\n",
       "    <tr style=\"text-align: right;\">\n",
       "      <th></th>\n",
       "      <th>login</th>\n",
       "      <th>tid</th>\n",
       "      <th>microtasks</th>\n",
       "      <th>assigned_ts</th>\n",
       "      <th>closed_ts</th>\n",
       "      <th>time_work</th>\n",
       "    </tr>\n",
       "  </thead>\n",
       "  <tbody>\n",
       "    <tr>\n",
       "      <th>0</th>\n",
       "      <td>0</td>\n",
       "      <td>190563850.0</td>\n",
       "      <td>4.0</td>\n",
       "      <td>2017-04-20 12:09:39</td>\n",
       "      <td>2017-04-20 13:13:01</td>\n",
       "      <td>3802.0</td>\n",
       "    </tr>\n",
       "    <tr>\n",
       "      <th>1</th>\n",
       "      <td>0</td>\n",
       "      <td>190561754.0</td>\n",
       "      <td>1.0</td>\n",
       "      <td>2017-04-20 12:10:30</td>\n",
       "      <td>2017-04-20 12:28:29</td>\n",
       "      <td>1079.0</td>\n",
       "    </tr>\n",
       "    <tr>\n",
       "      <th>2</th>\n",
       "      <td>0</td>\n",
       "      <td>190565906.0</td>\n",
       "      <td>4.0</td>\n",
       "      <td>2017-04-20 12:21:31</td>\n",
       "      <td>2017-04-20 13:30:10</td>\n",
       "      <td>4119.0</td>\n",
       "    </tr>\n",
       "    <tr>\n",
       "      <th>3</th>\n",
       "      <td>0</td>\n",
       "      <td>190560246.0</td>\n",
       "      <td>1.0</td>\n",
       "      <td>2017-04-20 12:28:30</td>\n",
       "      <td>2017-04-20 13:13:56</td>\n",
       "      <td>2726.0</td>\n",
       "    </tr>\n",
       "    <tr>\n",
       "      <th>4</th>\n",
       "      <td>0</td>\n",
       "      <td>190562168.0</td>\n",
       "      <td>2.0</td>\n",
       "      <td>2017-04-20 12:28:42</td>\n",
       "      <td>2017-04-20 13:14:50</td>\n",
       "      <td>2768.0</td>\n",
       "    </tr>\n",
       "  </tbody>\n",
       "</table>\n",
       "</div>"
      ],
      "text/plain": [
       "   login          tid  microtasks         assigned_ts           closed_ts  \\\n",
       "0      0  190563850.0         4.0 2017-04-20 12:09:39 2017-04-20 13:13:01   \n",
       "1      0  190561754.0         1.0 2017-04-20 12:10:30 2017-04-20 12:28:29   \n",
       "2      0  190565906.0         4.0 2017-04-20 12:21:31 2017-04-20 13:30:10   \n",
       "3      0  190560246.0         1.0 2017-04-20 12:28:30 2017-04-20 13:13:56   \n",
       "4      0  190562168.0         2.0 2017-04-20 12:28:42 2017-04-20 13:14:50   \n",
       "\n",
       "   time_work  \n",
       "0     3802.0  \n",
       "1     1079.0  \n",
       "2     4119.0  \n",
       "3     2726.0  \n",
       "4     2768.0  "
      ]
     },
     "execution_count": 9,
     "metadata": {},
     "output_type": "execute_result"
    }
   ],
   "source": [
    "# Создаем столбец time_work - время работы асессора над заданием в секундах\n",
    "df['time_work'] = df.closed_ts - df.assigned_ts\n",
    "df['time_work'] = df.time_work.dt.total_seconds()\n",
    "print(df.shape)\n",
    "df.head()"
   ]
  },
  {
   "cell_type": "markdown",
   "metadata": {},
   "source": [
    "### Генерация метрик для итогового датасета"
   ]
  },
  {
   "cell_type": "markdown",
   "metadata": {},
   "source": [
    "#### Итоговый датасет будет состоять из 5 метрик:\n",
    "<ol>\n",
    "<li>login - логин асессора (индекс датасета)</li>\n",
    "<li>microtasks_num - общее количество микрозадач по каждому асессору</li>\n",
    "<li>total_time_work - общее количество времени потраченное на выполнение всех задач</li>\n",
    "<li>time_for_one - время потраченное на выполнение одного микрозадания</li>\n",
    "<li>salary_for_microtask - оплата за выполнение одного микрозадания</li>\n",
    "</ol>  "
   ]
  },
  {
   "cell_type": "markdown",
   "metadata": {},
   "source": [
    "#### microtasks_num - общее количество микрозадач по каждому асессору"
   ]
  },
  {
   "cell_type": "code",
   "execution_count": 10,
   "metadata": {},
   "outputs": [
    {
     "name": "stdout",
     "output_type": "stream",
     "text": [
      "(767, 1)\n"
     ]
    },
    {
     "data": {
      "text/html": [
       "<div>\n",
       "<style scoped>\n",
       "    .dataframe tbody tr th:only-of-type {\n",
       "        vertical-align: middle;\n",
       "    }\n",
       "\n",
       "    .dataframe tbody tr th {\n",
       "        vertical-align: top;\n",
       "    }\n",
       "\n",
       "    .dataframe thead th {\n",
       "        text-align: right;\n",
       "    }\n",
       "</style>\n",
       "<table border=\"1\" class=\"dataframe\">\n",
       "  <thead>\n",
       "    <tr style=\"text-align: right;\">\n",
       "      <th></th>\n",
       "      <th>microtasks</th>\n",
       "    </tr>\n",
       "    <tr>\n",
       "      <th>login</th>\n",
       "      <th></th>\n",
       "    </tr>\n",
       "  </thead>\n",
       "  <tbody>\n",
       "    <tr>\n",
       "      <th>0</th>\n",
       "      <td>2172.0</td>\n",
       "    </tr>\n",
       "    <tr>\n",
       "      <th>1</th>\n",
       "      <td>3513.0</td>\n",
       "    </tr>\n",
       "    <tr>\n",
       "      <th>2</th>\n",
       "      <td>7479.0</td>\n",
       "    </tr>\n",
       "    <tr>\n",
       "      <th>3</th>\n",
       "      <td>19056.0</td>\n",
       "    </tr>\n",
       "    <tr>\n",
       "      <th>4</th>\n",
       "      <td>366.0</td>\n",
       "    </tr>\n",
       "  </tbody>\n",
       "</table>\n",
       "</div>"
      ],
      "text/plain": [
       "       microtasks\n",
       "login            \n",
       "0          2172.0\n",
       "1          3513.0\n",
       "2          7479.0\n",
       "3         19056.0\n",
       "4           366.0"
      ]
     },
     "execution_count": 10,
     "metadata": {},
     "output_type": "execute_result"
    }
   ],
   "source": [
    "result = df.groupby('login').microtasks.sum().to_frame()\n",
    "result.name = 'microtasks_num'\n",
    "print(result.shape)\n",
    "result.head()"
   ]
  },
  {
   "cell_type": "markdown",
   "metadata": {},
   "source": [
    "#### total_time_work - общее количество времени потраченное на выполнение всех задач"
   ]
  },
  {
   "cell_type": "code",
   "execution_count": 11,
   "metadata": {},
   "outputs": [
    {
     "name": "stdout",
     "output_type": "stream",
     "text": [
      "(767, 2)\n"
     ]
    },
    {
     "data": {
      "text/html": [
       "<div>\n",
       "<style scoped>\n",
       "    .dataframe tbody tr th:only-of-type {\n",
       "        vertical-align: middle;\n",
       "    }\n",
       "\n",
       "    .dataframe tbody tr th {\n",
       "        vertical-align: top;\n",
       "    }\n",
       "\n",
       "    .dataframe thead th {\n",
       "        text-align: right;\n",
       "    }\n",
       "</style>\n",
       "<table border=\"1\" class=\"dataframe\">\n",
       "  <thead>\n",
       "    <tr style=\"text-align: right;\">\n",
       "      <th></th>\n",
       "      <th>microtasks</th>\n",
       "      <th>total_time_work</th>\n",
       "    </tr>\n",
       "    <tr>\n",
       "      <th>login</th>\n",
       "      <th></th>\n",
       "      <th></th>\n",
       "    </tr>\n",
       "  </thead>\n",
       "  <tbody>\n",
       "    <tr>\n",
       "      <th>0</th>\n",
       "      <td>2172.0</td>\n",
       "      <td>1820211.0</td>\n",
       "    </tr>\n",
       "    <tr>\n",
       "      <th>1</th>\n",
       "      <td>3513.0</td>\n",
       "      <td>405881.0</td>\n",
       "    </tr>\n",
       "    <tr>\n",
       "      <th>2</th>\n",
       "      <td>7479.0</td>\n",
       "      <td>731167.0</td>\n",
       "    </tr>\n",
       "    <tr>\n",
       "      <th>3</th>\n",
       "      <td>19056.0</td>\n",
       "      <td>10186842.0</td>\n",
       "    </tr>\n",
       "    <tr>\n",
       "      <th>4</th>\n",
       "      <td>366.0</td>\n",
       "      <td>139385.0</td>\n",
       "    </tr>\n",
       "  </tbody>\n",
       "</table>\n",
       "</div>"
      ],
      "text/plain": [
       "       microtasks  total_time_work\n",
       "login                             \n",
       "0          2172.0        1820211.0\n",
       "1          3513.0         405881.0\n",
       "2          7479.0         731167.0\n",
       "3         19056.0       10186842.0\n",
       "4           366.0         139385.0"
      ]
     },
     "execution_count": 11,
     "metadata": {},
     "output_type": "execute_result"
    }
   ],
   "source": [
    "total_time_work = df.groupby('login').time_work.sum()\n",
    "total_time_work.name = 'total_time_work'\n",
    "result = pd.merge(result, total_time_work, on='login', how='inner')\n",
    "print(result.shape)\n",
    "result.head()"
   ]
  },
  {
   "cell_type": "markdown",
   "metadata": {},
   "source": [
    "#### time_for_one - время потраченное на выполнение одного микрозадания"
   ]
  },
  {
   "cell_type": "code",
   "execution_count": 12,
   "metadata": {},
   "outputs": [
    {
     "data": {
      "text/plain": [
       "10358"
      ]
     },
     "execution_count": 12,
     "metadata": {},
     "output_type": "execute_result"
    }
   ],
   "source": [
    "# Для начала отбираем повторяющиеся задачи\n",
    "tid_num = df.tid.value_counts()\n",
    "repet_tid = tid_num[tid_num > 1].index.tolist() \n",
    "len(repet_tid)"
   ]
  },
  {
   "cell_type": "code",
   "execution_count": 13,
   "metadata": {},
   "outputs": [
    {
     "name": "stdout",
     "output_type": "stream",
     "text": [
      "(55350, 6)\n"
     ]
    },
    {
     "data": {
      "text/html": [
       "<div>\n",
       "<style scoped>\n",
       "    .dataframe tbody tr th:only-of-type {\n",
       "        vertical-align: middle;\n",
       "    }\n",
       "\n",
       "    .dataframe tbody tr th {\n",
       "        vertical-align: top;\n",
       "    }\n",
       "\n",
       "    .dataframe thead th {\n",
       "        text-align: right;\n",
       "    }\n",
       "</style>\n",
       "<table border=\"1\" class=\"dataframe\">\n",
       "  <thead>\n",
       "    <tr style=\"text-align: right;\">\n",
       "      <th></th>\n",
       "      <th>login</th>\n",
       "      <th>tid</th>\n",
       "      <th>microtasks</th>\n",
       "      <th>assigned_ts</th>\n",
       "      <th>closed_ts</th>\n",
       "      <th>time_work</th>\n",
       "    </tr>\n",
       "  </thead>\n",
       "  <tbody>\n",
       "    <tr>\n",
       "      <th>11</th>\n",
       "      <td>0</td>\n",
       "      <td>189300086.0</td>\n",
       "      <td>4.0</td>\n",
       "      <td>2017-04-20 19:02:21</td>\n",
       "      <td>2017-04-20 19:28:59</td>\n",
       "      <td>1598.0</td>\n",
       "    </tr>\n",
       "    <tr>\n",
       "      <th>191</th>\n",
       "      <td>0</td>\n",
       "      <td>189530764.0</td>\n",
       "      <td>8.0</td>\n",
       "      <td>2017-04-23 17:30:51</td>\n",
       "      <td>2017-04-24 09:43:59</td>\n",
       "      <td>58388.0</td>\n",
       "    </tr>\n",
       "    <tr>\n",
       "      <th>200</th>\n",
       "      <td>0</td>\n",
       "      <td>166021510.0</td>\n",
       "      <td>2.0</td>\n",
       "      <td>2017-04-25 07:28:35</td>\n",
       "      <td>2017-04-25 07:46:42</td>\n",
       "      <td>1087.0</td>\n",
       "    </tr>\n",
       "    <tr>\n",
       "      <th>201</th>\n",
       "      <td>0</td>\n",
       "      <td>191696830.0</td>\n",
       "      <td>1.0</td>\n",
       "      <td>2017-04-25 07:37:47</td>\n",
       "      <td>2017-04-25 08:08:21</td>\n",
       "      <td>1834.0</td>\n",
       "    </tr>\n",
       "    <tr>\n",
       "      <th>221</th>\n",
       "      <td>0</td>\n",
       "      <td>191793036.0</td>\n",
       "      <td>2.0</td>\n",
       "      <td>2017-04-25 11:12:53</td>\n",
       "      <td>2017-04-25 11:25:13</td>\n",
       "      <td>740.0</td>\n",
       "    </tr>\n",
       "  </tbody>\n",
       "</table>\n",
       "</div>"
      ],
      "text/plain": [
       "     login          tid  microtasks         assigned_ts           closed_ts  \\\n",
       "11       0  189300086.0         4.0 2017-04-20 19:02:21 2017-04-20 19:28:59   \n",
       "191      0  189530764.0         8.0 2017-04-23 17:30:51 2017-04-24 09:43:59   \n",
       "200      0  166021510.0         2.0 2017-04-25 07:28:35 2017-04-25 07:46:42   \n",
       "201      0  191696830.0         1.0 2017-04-25 07:37:47 2017-04-25 08:08:21   \n",
       "221      0  191793036.0         2.0 2017-04-25 11:12:53 2017-04-25 11:25:13   \n",
       "\n",
       "     time_work  \n",
       "11      1598.0  \n",
       "191    58388.0  \n",
       "200     1087.0  \n",
       "201     1834.0  \n",
       "221      740.0  "
      ]
     },
     "execution_count": 13,
     "metadata": {},
     "output_type": "execute_result"
    }
   ],
   "source": [
    "# Создаем датасет с повторяющимеся задачами\n",
    "repet_tid = df[df.tid.isin(repet_tid)]\n",
    "print(repet_tid.shape)\n",
    "repet_tid.head()"
   ]
  },
  {
   "cell_type": "code",
   "execution_count": 14,
   "metadata": {},
   "outputs": [
    {
     "name": "stdout",
     "output_type": "stream",
     "text": [
      "(10358,)\n"
     ]
    },
    {
     "data": {
      "text/plain": [
       "tid\n",
       "113958765.0    139.0\n",
       "113958927.0    297.0\n",
       "113959029.0    150.0\n",
       "113959131.0    202.0\n",
       "113959365.0     50.0\n",
       "Name: real_time_work, dtype: float64"
      ]
     },
     "execution_count": 14,
     "metadata": {},
     "output_type": "execute_result"
    }
   ],
   "source": [
    "# Отбираем самые быстрые решения по каждой задаче\n",
    "real_time_work = repet_tid.groupby('tid').time_work.min() \n",
    "print(real_time_work.shape)\n",
    "real_time_work.name = 'real_time_work'\n",
    "real_time_work.head()"
   ]
  },
  {
   "cell_type": "code",
   "execution_count": 15,
   "metadata": {},
   "outputs": [
    {
     "name": "stdout",
     "output_type": "stream",
     "text": [
      "(55350, 7)\n"
     ]
    },
    {
     "data": {
      "text/html": [
       "<div>\n",
       "<style scoped>\n",
       "    .dataframe tbody tr th:only-of-type {\n",
       "        vertical-align: middle;\n",
       "    }\n",
       "\n",
       "    .dataframe tbody tr th {\n",
       "        vertical-align: top;\n",
       "    }\n",
       "\n",
       "    .dataframe thead th {\n",
       "        text-align: right;\n",
       "    }\n",
       "</style>\n",
       "<table border=\"1\" class=\"dataframe\">\n",
       "  <thead>\n",
       "    <tr style=\"text-align: right;\">\n",
       "      <th></th>\n",
       "      <th>login</th>\n",
       "      <th>tid</th>\n",
       "      <th>microtasks</th>\n",
       "      <th>assigned_ts</th>\n",
       "      <th>closed_ts</th>\n",
       "      <th>time_work</th>\n",
       "      <th>real_time_work</th>\n",
       "    </tr>\n",
       "  </thead>\n",
       "  <tbody>\n",
       "    <tr>\n",
       "      <th>11</th>\n",
       "      <td>0</td>\n",
       "      <td>189300086.0</td>\n",
       "      <td>4.0</td>\n",
       "      <td>2017-04-20 19:02:21</td>\n",
       "      <td>2017-04-20 19:28:59</td>\n",
       "      <td>1598.0</td>\n",
       "      <td>149.0</td>\n",
       "    </tr>\n",
       "    <tr>\n",
       "      <th>191</th>\n",
       "      <td>0</td>\n",
       "      <td>189530764.0</td>\n",
       "      <td>8.0</td>\n",
       "      <td>2017-04-23 17:30:51</td>\n",
       "      <td>2017-04-24 09:43:59</td>\n",
       "      <td>58388.0</td>\n",
       "      <td>579.0</td>\n",
       "    </tr>\n",
       "    <tr>\n",
       "      <th>200</th>\n",
       "      <td>0</td>\n",
       "      <td>166021510.0</td>\n",
       "      <td>2.0</td>\n",
       "      <td>2017-04-25 07:28:35</td>\n",
       "      <td>2017-04-25 07:46:42</td>\n",
       "      <td>1087.0</td>\n",
       "      <td>144.0</td>\n",
       "    </tr>\n",
       "    <tr>\n",
       "      <th>201</th>\n",
       "      <td>0</td>\n",
       "      <td>191696830.0</td>\n",
       "      <td>1.0</td>\n",
       "      <td>2017-04-25 07:37:47</td>\n",
       "      <td>2017-04-25 08:08:21</td>\n",
       "      <td>1834.0</td>\n",
       "      <td>20.0</td>\n",
       "    </tr>\n",
       "    <tr>\n",
       "      <th>221</th>\n",
       "      <td>0</td>\n",
       "      <td>191793036.0</td>\n",
       "      <td>2.0</td>\n",
       "      <td>2017-04-25 11:12:53</td>\n",
       "      <td>2017-04-25 11:25:13</td>\n",
       "      <td>740.0</td>\n",
       "      <td>156.0</td>\n",
       "    </tr>\n",
       "  </tbody>\n",
       "</table>\n",
       "</div>"
      ],
      "text/plain": [
       "     login          tid  microtasks         assigned_ts           closed_ts  \\\n",
       "11       0  189300086.0         4.0 2017-04-20 19:02:21 2017-04-20 19:28:59   \n",
       "191      0  189530764.0         8.0 2017-04-23 17:30:51 2017-04-24 09:43:59   \n",
       "200      0  166021510.0         2.0 2017-04-25 07:28:35 2017-04-25 07:46:42   \n",
       "201      0  191696830.0         1.0 2017-04-25 07:37:47 2017-04-25 08:08:21   \n",
       "221      0  191793036.0         2.0 2017-04-25 11:12:53 2017-04-25 11:25:13   \n",
       "\n",
       "     time_work  real_time_work  \n",
       "11      1598.0           149.0  \n",
       "191    58388.0           579.0  \n",
       "200     1087.0           144.0  \n",
       "201     1834.0            20.0  \n",
       "221      740.0           156.0  "
      ]
     },
     "execution_count": 15,
     "metadata": {},
     "output_type": "execute_result"
    }
   ],
   "source": [
    "# Создаем датасет где есть показатель real_time_work - самого быстрого решения по каждой задаче\n",
    "a = pd.merge(df, real_time_work, on='tid', how='left')\n",
    "a = a[a.real_time_work.notna()]\n",
    "print(a.shape)\n",
    "a.head()"
   ]
  },
  {
   "cell_type": "code",
   "execution_count": 16,
   "metadata": {},
   "outputs": [
    {
     "name": "stdout",
     "output_type": "stream",
     "text": [
      "(55350, 8)\n"
     ]
    },
    {
     "data": {
      "text/html": [
       "<div>\n",
       "<style scoped>\n",
       "    .dataframe tbody tr th:only-of-type {\n",
       "        vertical-align: middle;\n",
       "    }\n",
       "\n",
       "    .dataframe tbody tr th {\n",
       "        vertical-align: top;\n",
       "    }\n",
       "\n",
       "    .dataframe thead th {\n",
       "        text-align: right;\n",
       "    }\n",
       "</style>\n",
       "<table border=\"1\" class=\"dataframe\">\n",
       "  <thead>\n",
       "    <tr style=\"text-align: right;\">\n",
       "      <th></th>\n",
       "      <th>login</th>\n",
       "      <th>tid</th>\n",
       "      <th>microtasks</th>\n",
       "      <th>assigned_ts</th>\n",
       "      <th>closed_ts</th>\n",
       "      <th>time_work</th>\n",
       "      <th>real_time_work</th>\n",
       "      <th>time_for_one</th>\n",
       "    </tr>\n",
       "  </thead>\n",
       "  <tbody>\n",
       "    <tr>\n",
       "      <th>11</th>\n",
       "      <td>0</td>\n",
       "      <td>189300086.0</td>\n",
       "      <td>4.0</td>\n",
       "      <td>2017-04-20 19:02:21</td>\n",
       "      <td>2017-04-20 19:28:59</td>\n",
       "      <td>1598.0</td>\n",
       "      <td>149.0</td>\n",
       "      <td>37.250</td>\n",
       "    </tr>\n",
       "    <tr>\n",
       "      <th>191</th>\n",
       "      <td>0</td>\n",
       "      <td>189530764.0</td>\n",
       "      <td>8.0</td>\n",
       "      <td>2017-04-23 17:30:51</td>\n",
       "      <td>2017-04-24 09:43:59</td>\n",
       "      <td>58388.0</td>\n",
       "      <td>579.0</td>\n",
       "      <td>72.375</td>\n",
       "    </tr>\n",
       "    <tr>\n",
       "      <th>200</th>\n",
       "      <td>0</td>\n",
       "      <td>166021510.0</td>\n",
       "      <td>2.0</td>\n",
       "      <td>2017-04-25 07:28:35</td>\n",
       "      <td>2017-04-25 07:46:42</td>\n",
       "      <td>1087.0</td>\n",
       "      <td>144.0</td>\n",
       "      <td>72.000</td>\n",
       "    </tr>\n",
       "    <tr>\n",
       "      <th>201</th>\n",
       "      <td>0</td>\n",
       "      <td>191696830.0</td>\n",
       "      <td>1.0</td>\n",
       "      <td>2017-04-25 07:37:47</td>\n",
       "      <td>2017-04-25 08:08:21</td>\n",
       "      <td>1834.0</td>\n",
       "      <td>20.0</td>\n",
       "      <td>20.000</td>\n",
       "    </tr>\n",
       "    <tr>\n",
       "      <th>221</th>\n",
       "      <td>0</td>\n",
       "      <td>191793036.0</td>\n",
       "      <td>2.0</td>\n",
       "      <td>2017-04-25 11:12:53</td>\n",
       "      <td>2017-04-25 11:25:13</td>\n",
       "      <td>740.0</td>\n",
       "      <td>156.0</td>\n",
       "      <td>78.000</td>\n",
       "    </tr>\n",
       "  </tbody>\n",
       "</table>\n",
       "</div>"
      ],
      "text/plain": [
       "     login          tid  microtasks         assigned_ts           closed_ts  \\\n",
       "11       0  189300086.0         4.0 2017-04-20 19:02:21 2017-04-20 19:28:59   \n",
       "191      0  189530764.0         8.0 2017-04-23 17:30:51 2017-04-24 09:43:59   \n",
       "200      0  166021510.0         2.0 2017-04-25 07:28:35 2017-04-25 07:46:42   \n",
       "201      0  191696830.0         1.0 2017-04-25 07:37:47 2017-04-25 08:08:21   \n",
       "221      0  191793036.0         2.0 2017-04-25 11:12:53 2017-04-25 11:25:13   \n",
       "\n",
       "     time_work  real_time_work  time_for_one  \n",
       "11      1598.0           149.0        37.250  \n",
       "191    58388.0           579.0        72.375  \n",
       "200     1087.0           144.0        72.000  \n",
       "201     1834.0            20.0        20.000  \n",
       "221      740.0           156.0        78.000  "
      ]
     },
     "execution_count": 16,
     "metadata": {},
     "output_type": "execute_result"
    }
   ],
   "source": [
    "# Вычисляем время потраченное на выполнение одного микрозадания¶\n",
    "a['time_for_one'] = a.real_time_work / a.microtasks\n",
    "print(a.shape)\n",
    "a.head()"
   ]
  },
  {
   "cell_type": "code",
   "execution_count": 17,
   "metadata": {},
   "outputs": [
    {
     "name": "stdout",
     "output_type": "stream",
     "text": [
      "(766,)\n"
     ]
    },
    {
     "data": {
      "text/plain": [
       "login\n",
       "0    48.607094\n",
       "1    33.492291\n",
       "2    33.510963\n",
       "3    43.332131\n",
       "4    28.967294\n",
       "Name: time_for_one, dtype: float64"
      ]
     },
     "execution_count": 17,
     "metadata": {},
     "output_type": "execute_result"
    }
   ],
   "source": [
    "# Генерируем показатель time_for_one - сколько времени в среднем тратит на выполнение одного задания каждый асессор\n",
    "time_for_one = a.groupby('login').time_for_one.mean()\n",
    "print(time_for_one.shape)\n",
    "time_for_one.head()"
   ]
  },
  {
   "cell_type": "code",
   "execution_count": 18,
   "metadata": {},
   "outputs": [
    {
     "name": "stdout",
     "output_type": "stream",
     "text": [
      "(767, 3)\n"
     ]
    },
    {
     "data": {
      "text/html": [
       "<div>\n",
       "<style scoped>\n",
       "    .dataframe tbody tr th:only-of-type {\n",
       "        vertical-align: middle;\n",
       "    }\n",
       "\n",
       "    .dataframe tbody tr th {\n",
       "        vertical-align: top;\n",
       "    }\n",
       "\n",
       "    .dataframe thead th {\n",
       "        text-align: right;\n",
       "    }\n",
       "</style>\n",
       "<table border=\"1\" class=\"dataframe\">\n",
       "  <thead>\n",
       "    <tr style=\"text-align: right;\">\n",
       "      <th></th>\n",
       "      <th>microtasks</th>\n",
       "      <th>total_time_work</th>\n",
       "      <th>time_for_one</th>\n",
       "    </tr>\n",
       "    <tr>\n",
       "      <th>login</th>\n",
       "      <th></th>\n",
       "      <th></th>\n",
       "      <th></th>\n",
       "    </tr>\n",
       "  </thead>\n",
       "  <tbody>\n",
       "    <tr>\n",
       "      <th>0</th>\n",
       "      <td>2172.0</td>\n",
       "      <td>1820211.0</td>\n",
       "      <td>48.607094</td>\n",
       "    </tr>\n",
       "    <tr>\n",
       "      <th>1</th>\n",
       "      <td>3513.0</td>\n",
       "      <td>405881.0</td>\n",
       "      <td>33.492291</td>\n",
       "    </tr>\n",
       "    <tr>\n",
       "      <th>2</th>\n",
       "      <td>7479.0</td>\n",
       "      <td>731167.0</td>\n",
       "      <td>33.510963</td>\n",
       "    </tr>\n",
       "    <tr>\n",
       "      <th>3</th>\n",
       "      <td>19056.0</td>\n",
       "      <td>10186842.0</td>\n",
       "      <td>43.332131</td>\n",
       "    </tr>\n",
       "    <tr>\n",
       "      <th>4</th>\n",
       "      <td>366.0</td>\n",
       "      <td>139385.0</td>\n",
       "      <td>28.967294</td>\n",
       "    </tr>\n",
       "  </tbody>\n",
       "</table>\n",
       "</div>"
      ],
      "text/plain": [
       "       microtasks  total_time_work  time_for_one\n",
       "login                                           \n",
       "0          2172.0        1820211.0     48.607094\n",
       "1          3513.0         405881.0     33.492291\n",
       "2          7479.0         731167.0     33.510963\n",
       "3         19056.0       10186842.0     43.332131\n",
       "4           366.0         139385.0     28.967294"
      ]
     },
     "execution_count": 18,
     "metadata": {},
     "output_type": "execute_result"
    }
   ],
   "source": [
    "# Добавляем показатель time_for_one в итоговый датасет\n",
    "result = pd.merge(result, time_for_one, on='login', how='left')\n",
    "print(result.shape)\n",
    "result.head()"
   ]
  },
  {
   "cell_type": "code",
   "execution_count": 19,
   "metadata": {},
   "outputs": [
    {
     "data": {
      "text/html": [
       "<div>\n",
       "<style scoped>\n",
       "    .dataframe tbody tr th:only-of-type {\n",
       "        vertical-align: middle;\n",
       "    }\n",
       "\n",
       "    .dataframe tbody tr th {\n",
       "        vertical-align: top;\n",
       "    }\n",
       "\n",
       "    .dataframe thead th {\n",
       "        text-align: right;\n",
       "    }\n",
       "</style>\n",
       "<table border=\"1\" class=\"dataframe\">\n",
       "  <thead>\n",
       "    <tr style=\"text-align: right;\">\n",
       "      <th></th>\n",
       "      <th>microtasks</th>\n",
       "      <th>total_time_work</th>\n",
       "      <th>time_for_one</th>\n",
       "    </tr>\n",
       "    <tr>\n",
       "      <th>login</th>\n",
       "      <th></th>\n",
       "      <th></th>\n",
       "      <th></th>\n",
       "    </tr>\n",
       "  </thead>\n",
       "  <tbody>\n",
       "    <tr>\n",
       "      <th>282</th>\n",
       "      <td>1.0</td>\n",
       "      <td>25.0</td>\n",
       "      <td>NaN</td>\n",
       "    </tr>\n",
       "  </tbody>\n",
       "</table>\n",
       "</div>"
      ],
      "text/plain": [
       "       microtasks  total_time_work  time_for_one\n",
       "login                                           \n",
       "282           1.0             25.0           NaN"
      ]
     },
     "execution_count": 19,
     "metadata": {},
     "output_type": "execute_result"
    }
   ],
   "source": [
    "# Проверка и заполнение пустых значений\n",
    "result[result.time_for_one.isna()]"
   ]
  },
  {
   "cell_type": "code",
   "execution_count": 20,
   "metadata": {},
   "outputs": [],
   "source": [
    "change = result[result.time_for_one.isna()].index.tolist()\n",
    "result.loc[change,'time_for_one'] = result.loc[change,'total_time_work']"
   ]
  },
  {
   "cell_type": "markdown",
   "metadata": {},
   "source": [
    "#### salary_for_microtask - оплата за выполнение одного микрозадания"
   ]
  },
  {
   "cell_type": "code",
   "execution_count": 21,
   "metadata": {},
   "outputs": [
    {
     "name": "stdout",
     "output_type": "stream",
     "text": [
      "Сколько рублей Вы готовы заплатить асессору за 30 секунд его рабочего времени 1\n",
      "(767, 4)\n"
     ]
    },
    {
     "data": {
      "text/html": [
       "<div>\n",
       "<style scoped>\n",
       "    .dataframe tbody tr th:only-of-type {\n",
       "        vertical-align: middle;\n",
       "    }\n",
       "\n",
       "    .dataframe tbody tr th {\n",
       "        vertical-align: top;\n",
       "    }\n",
       "\n",
       "    .dataframe thead th {\n",
       "        text-align: right;\n",
       "    }\n",
       "</style>\n",
       "<table border=\"1\" class=\"dataframe\">\n",
       "  <thead>\n",
       "    <tr style=\"text-align: right;\">\n",
       "      <th></th>\n",
       "      <th>microtasks</th>\n",
       "      <th>total_time_work</th>\n",
       "      <th>time_for_one</th>\n",
       "      <th>salary_for_microtask</th>\n",
       "    </tr>\n",
       "    <tr>\n",
       "      <th>login</th>\n",
       "      <th></th>\n",
       "      <th></th>\n",
       "      <th></th>\n",
       "      <th></th>\n",
       "    </tr>\n",
       "  </thead>\n",
       "  <tbody>\n",
       "    <tr>\n",
       "      <th>0</th>\n",
       "      <td>2172.0</td>\n",
       "      <td>1820211.0</td>\n",
       "      <td>48.607094</td>\n",
       "      <td>1.620236</td>\n",
       "    </tr>\n",
       "    <tr>\n",
       "      <th>1</th>\n",
       "      <td>3513.0</td>\n",
       "      <td>405881.0</td>\n",
       "      <td>33.492291</td>\n",
       "      <td>1.116410</td>\n",
       "    </tr>\n",
       "    <tr>\n",
       "      <th>2</th>\n",
       "      <td>7479.0</td>\n",
       "      <td>731167.0</td>\n",
       "      <td>33.510963</td>\n",
       "      <td>1.117032</td>\n",
       "    </tr>\n",
       "    <tr>\n",
       "      <th>3</th>\n",
       "      <td>19056.0</td>\n",
       "      <td>10186842.0</td>\n",
       "      <td>43.332131</td>\n",
       "      <td>1.444404</td>\n",
       "    </tr>\n",
       "    <tr>\n",
       "      <th>4</th>\n",
       "      <td>366.0</td>\n",
       "      <td>139385.0</td>\n",
       "      <td>28.967294</td>\n",
       "      <td>0.965576</td>\n",
       "    </tr>\n",
       "  </tbody>\n",
       "</table>\n",
       "</div>"
      ],
      "text/plain": [
       "       microtasks  total_time_work  time_for_one  salary_for_microtask\n",
       "login                                                                 \n",
       "0          2172.0        1820211.0     48.607094              1.620236\n",
       "1          3513.0         405881.0     33.492291              1.116410\n",
       "2          7479.0         731167.0     33.510963              1.117032\n",
       "3         19056.0       10186842.0     43.332131              1.444404\n",
       "4           366.0         139385.0     28.967294              0.965576"
      ]
     },
     "execution_count": 21,
     "metadata": {},
     "output_type": "execute_result"
    }
   ],
   "source": [
    "salary = float(input('Сколько рублей Вы готовы заплатить асессору за 30 секунд его рабочего времени '))\n",
    "result['salary_for_microtask'] = (result.time_for_one / 30) * salary\n",
    "print(result.shape)\n",
    "result.head()"
   ]
  }
 ],
 "metadata": {
  "kernelspec": {
   "display_name": "Python 3",
   "language": "python",
   "name": "python3"
  },
  "language_info": {
   "codemirror_mode": {
    "name": "ipython",
    "version": 3
   },
   "file_extension": ".py",
   "mimetype": "text/x-python",
   "name": "python",
   "nbconvert_exporter": "python",
   "pygments_lexer": "ipython3",
   "version": "3.8.5"
  }
 },
 "nbformat": 4,
 "nbformat_minor": 4
}
